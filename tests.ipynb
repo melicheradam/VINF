{
 "cells": [
  {
   "cell_type": "code",
   "execution_count": 7,
   "metadata": {},
   "outputs": [],
   "source": [
    "from crawler import extract_star_info\n",
    "import pandas as pd\n",
    "pd.set_option('display.width', 1000)"
   ]
  },
  {
   "cell_type": "code",
   "execution_count": 8,
   "metadata": {},
   "outputs": [
    {
     "name": "stdout",
     "output_type": "stream",
     "text": [
      "<class 'pandas.core.frame.DataFrame'>\n",
      "RangeIndex: 9 entries, 0 to 8\n",
      "Data columns (total 81 columns):\n",
      " #   Column                                Non-Null Count  Dtype \n",
      "---  ------                                --------------  ----- \n",
      " 0   star_name                             9 non-null      object\n",
      " 1   Constellation                         8 non-null      object\n",
      " 2   Right ascension                       8 non-null      object\n",
      " 3   Declination                           8 non-null      object\n",
      " 4   Evolutionary stage                    4 non-null      object\n",
      " 5   Spectral type                         8 non-null      object\n",
      " 6   Apparent magnitude(G)                 1 non-null      object\n",
      " 7   Apparent magnitude(J)                 2 non-null      object\n",
      " 8   Apparent magnitude(H)                 2 non-null      object\n",
      " 9   Apparent magnitude(K)                 2 non-null      object\n",
      " 10  Radial velocity(Rv)                   8 non-null      object\n",
      " 11  Proper motion(μ)                      8 non-null      object\n",
      " 12  Parallax(π)                           8 non-null      object\n",
      " 13  Distance                              8 non-null      object\n",
      " 14  Radius                                8 non-null      object\n",
      " 15  Luminosity                            7 non-null      object\n",
      " 16  Temperature                           9 non-null      object\n",
      " 17  SIMBAD                                7 non-null      object\n",
      " 18  Names                                 1 non-null      object\n",
      " 19  Adjectives                            1 non-null      object\n",
      " 20  Mean distancefrom Earth               1 non-null      object\n",
      " 21  Visual brightness(V)                  1 non-null      object\n",
      " 22  Absolute magnitude                    1 non-null      object\n",
      " 23  Spectral classification               1 non-null      object\n",
      " 24  Metallicity                           2 non-null      object\n",
      " 25  Angular size                          1 non-null      object\n",
      " 26  Mean distance fromMilky Waycore       1 non-null      object\n",
      " 27  Galactic period                       1 non-null      object\n",
      " 28  Velocity                              1 non-null      object\n",
      " 29  Equatorialradius                      1 non-null      object\n",
      " 30  Equatorialcircumference               1 non-null      object\n",
      " 31  Flattening                            1 non-null      object\n",
      " 32  Surface area                          1 non-null      object\n",
      " 33  Volume                                1 non-null      object\n",
      " 34  Mass                                  8 non-null      object\n",
      " 35  Averagedensity                        1 non-null      object\n",
      " 36  Centerdensity(modeled)                1 non-null      object\n",
      " 37  Equatorialsurface gravity             1 non-null      object\n",
      " 38  Moment of inertia factor              1 non-null      object\n",
      " 39  Escape velocity(from the surface)     1 non-null      object\n",
      " 40  Luminosity(Lsol)                      1 non-null      object\n",
      " 41  Color(B-V)                            1 non-null      object\n",
      " 42  Meanradiance(Isol)                    1 non-null      object\n",
      " 43  Age                                   8 non-null      object\n",
      " 44  Photosphericcomposition (by mass)     1 non-null      object\n",
      " 45  Obliquity                             1 non-null      object\n",
      " 46  Right ascensionof North pole[17]      1 non-null      object\n",
      " 47  Declinationof North pole              1 non-null      object\n",
      " 48  Siderealrotation period               1 non-null      object\n",
      " 49  Rotation velocity(at equator)         1 non-null      object\n",
      " 50  Pronunciation                         5 non-null      object\n",
      " 51  Apparent magnitude(V)                 7 non-null      object\n",
      " 52  U−Bcolor index                        5 non-null      object\n",
      " 53  B−Vcolor index                        5 non-null      object\n",
      " 54  V−Rcolor index                        1 non-null      object\n",
      " 55  R−Icolor index                        1 non-null      object\n",
      " 56  J−Hcolor index                        1 non-null      object\n",
      " 57  J−Kcolor index                        1 non-null      object\n",
      " 58  Variable type                         4 non-null      object\n",
      " 59  Absolute magnitude(MV)                7 non-null      object\n",
      " 60  Primary                               3 non-null      object\n",
      " 61  Companion                             5 non-null      object\n",
      " 62  Period(P)                             5 non-null      object\n",
      " 63  Semi-major axis(a)                    5 non-null      object\n",
      " 64  Eccentricity(e)                       5 non-null      object\n",
      " 65  Inclination(i)                        5 non-null      object\n",
      " 66  Longitude of the node(Ω)              5 non-null      object\n",
      " 67  Periastronepoch(T)                    4 non-null      object\n",
      " 68  Argument of periastron(ω)(secondary)  5 non-null      object\n",
      " 69  Luminosity (bolometric)               1 non-null      object\n",
      " 70  Luminosity (visual, LV)               2 non-null      object\n",
      " 71  Surface gravity(logg)                 7 non-null      object\n",
      " 72  Metallicity[Fe/H]                     7 non-null      object\n",
      " 73  Rotation                              6 non-null      object\n",
      " 74  Rotational velocity(vsini)            6 non-null      object\n",
      " 75  ARICNS                                2 non-null      object\n",
      " 76  U−Bcolour index                       2 non-null      object\n",
      " 77  B−Vcolour index                       2 non-null      object\n",
      " 78  Apparent magnitude(B)                 1 non-null      object\n",
      " 79  Absolute bolometricmagnitude(Mbol)    1 non-null      object\n",
      " 80  Exoplanet Archive                     1 non-null      object\n",
      "dtypes: object(81)\n",
      "memory usage: 5.8+ KB\n"
     ]
    }
   ],
   "source": [
    "star_list = [\n",
    "        \"Stephenson_2_DFK_1\",\n",
    "        \"Sun\",\n",
    "        \"Proxima_Centauri\",\n",
    "        \"Sirius\",\n",
    "        \"Epsilon_Eridani\",\n",
    "        \"61_Cygni\",\n",
    "        \"Procyon\",\n",
    "        \"Epsilon_Indi\",\n",
    "        \"Tau_Ceti\",\n",
    "    ]\n",
    "all_data = []\n",
    "for star in star_list:\n",
    "    star_info = extract_star_info(star)\n",
    "    all_data.append(star_info)\n",
    "\n",
    "df = pd.DataFrame(all_data)\n",
    "\n",
    "df.info()"
   ]
  },
  {
   "cell_type": "code",
   "execution_count": 9,
   "metadata": {},
   "outputs": [
    {
     "name": "stdout",
     "output_type": "stream",
     "text": [
      "star_name              9\n",
      "Temperature            9\n",
      "Right ascension        8\n",
      "Declination            8\n",
      "Age                    8\n",
      "Spectral type          8\n",
      "Constellation          8\n",
      "Mass                   8\n",
      "Radial velocity(Rv)    8\n",
      "Proper motion(μ)       8\n",
      "dtype: int64\n"
     ]
    }
   ],
   "source": [
    "non_null_counts = df.count()\n",
    "\n",
    "sorted_counts = non_null_counts.sort_values(ascending=False)\n",
    "print(sorted_counts.head(10))"
   ]
  },
  {
   "cell_type": "code",
   "execution_count": 11,
   "metadata": {},
   "outputs": [
    {
     "name": "stdout",
     "output_type": "stream",
     "text": [
      "            star_name                                        Temperature     Right ascension           Declination                                        Age       Spectral type Constellation                                   Mass    Radial velocity(Rv)                                   Proper motion(μ)               Parallax(π)                             Distance                                    Radius Absolute magnitude(MV)              Surface gravity(logg)\n",
      "0  Stephenson_2_DFK_1                                          3,200[7]K   18h39m02.3709s[1]  −06° 05′ 10.5357″[1]                                        NaN              ~M6[3]        Scutum                                    NaN              89[5]km/s  RA:−3.045±0.511[1]mas/yrDec.:−5.950±0.480[1]ma...    −0.0081 ± 0.3120mas[1]              18,900[6]ly(5,800[6]pc)                             2,150[7][a]R☉                    NaN                                NaN\n",
      "1                 Sun  Center (modeled):1.57×107K[5]Photosphere(effec...                 NaN                   NaN  ≈4.6 billion years (4.6×109years)[14][15]                 NaN           NaN       1.9885×1030kg[5]332,950Earths[5]                    NaN                                                NaN                       NaN                                  NaN                                       NaN                    NaN                                NaN\n",
      "2    Proxima_Centauri                                    2,992+49−47[8]K  14h29m42.94853s[2]  −62° 40′ 46.1631″[2]                                4.85[15]Gyr           M5.5Ve[4]     Centaurus                     0.1221±0.0022[5]M☉   −22.204±0.032[5]km/s         RA:−3781.741[6]mas/yrDec.:769.465[6]mas/yr   768.0665 ± 0.0499mas[6]     4.2465 ± 0.0003ly(1.30197 ± 0pc)                        0.1542±0.0045[5]R☉               15.60[7]                    5.20±0.23[9]cgs\n",
      "3              Sirius                                  25,000 ± 200[13]K      06h45m09.0s[4]       −16° 43′ 06″[4]                            228+10−8[12]Myr              DA2[5]   Canis Major                    1.018 ± 0.011[12]M☉           −5.50[8]km/s       RA:−461.571mas/yr[11]Dec.:−914.520mas/yr[11]  374.4896 ± 0.2313mas[11]     8.709 ± 0.005ly(2.670 ± 0.002pc)                         0.0084 ± 3%[17]R☉              +11.18[7]                        8.57[17]cgs\n",
      "4     Epsilon_Eridani                                     5,084±5.9[14]K  03h32m55.84496s[1]  −09° 27′ 29.7312″[1]                             400–800[18]Myr              K2V[3]      Eridanus                    0.82±0.02[10][11]M☉  +16.376±0.0019[7]km/s             RA:−975.17[1]mas/yrDec.:19.49[1]mas/yr       311.37 ± 0.11mas[8]    10.475 ± 0.004ly(3.212 ± 0.001pc)                         0.735±0.005[12]R☉                6.19[9]                   4.30±0.08[10]cgs\n",
      "5            61_Cygni                                     4,077 ±59[13]K   21h06m55.2638s[3]   +38° 44′ 31.359″[3]                              6.1 ±1[11]Gyr                 K7V        Cygnus                             0.63[10]M☉     −64.59±0.12[3]km/s       RA:4,105.976mas/yr[3]Dec.:3,155.942mas/yr[3]   286.0054 ± 0.0289mas[3]  11.404 ± 0.001ly(3.4964 ± 0.0004pc)                        0.595 ±0.008[11]R☉               8.228[8]                        4.20[12]cgs\n",
      "6             Procyon                                       7,740±50[5]K  07h39m18.11950s[2]  +05° 13′ 29.9552″[2]                                1.37[11]Gyr  F5 IV–V[3]+ DQZ[5]   Canis Minor                       0.602±0.015[5]M☉            −3.2[8]km/s         RA:−714.590[2]mas/yrDec.:−1036.80[2]mas/yr       284.56 ± 1.26mas[2]        11.46 ± 0.05ly(3.51 ± 0.02pc)                      0.01234±0.00032[5]R☉           2.66/13.0[4]                          8.0[5]cgs\n",
      "7        Epsilon_Indi                Ba: 1,352–1,385 KBb: 976–1,011[10]K  22h03m21.65363s[1]  −56° 47′ 09.5228″[1]                          3.5+0.8−1.0[7]Gyr    K5V + T1 + T6[3]         Indus  Ba:66.92±0.36MJupBb:53.25±0.29[7]MJup     −40.43±0.13[1]km/s  RA:3,966.661(86)mas/yr[1]Dec.:−2,536.192(92)ma...   270.6580 ± 0.6896mas[6]      12.05 ± 0.03ly(3.695 ± 0.009pc)  Ba: ~0.080–0.081R☉Bb: ~0.082–0.083[10]R☉                6.89[5]  Ba: 5.43–5.45Bb: 5.27–5.33[10]cgs\n",
      "8            Tau_Ceti                                       5,320±40[6]K  01h44m04.08314s[1]  −15° 56′ 14.9276″[1]                                 8-10[9]Gyr              G8V[3]         Cetus                       0.783±0.012[2]M☉     −16.68±0.05[5]km/s        RA:−1721.728mas/yr[1]Dec.:+854.963mas/yr[1]   273.8097 ± 0.1701mas[1]    11.912 ± 0.007ly(3.652 ± 0.002pc)                          0.793±0.004[2]R☉           5.69±0.01[2]                    4.48±0.05[6]cgs\n"
     ]
    }
   ],
   "source": [
    "top_cols = sorted_counts.head(15).index.values\n",
    "\n",
    "print(df[top_cols])"
   ]
  }
 ],
 "metadata": {
  "kernelspec": {
   "display_name": "VINF-IlsVNbrQ",
   "language": "python",
   "name": "python3"
  },
  "language_info": {
   "codemirror_mode": {
    "name": "ipython",
    "version": 3
   },
   "file_extension": ".py",
   "mimetype": "text/x-python",
   "name": "python",
   "nbconvert_exporter": "python",
   "pygments_lexer": "ipython3",
   "version": "3.11.5"
  }
 },
 "nbformat": 4,
 "nbformat_minor": 2
}
